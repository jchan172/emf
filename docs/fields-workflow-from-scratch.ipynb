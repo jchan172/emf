{
 "cells": [
  {
   "cell_type": "markdown",
   "metadata": {},
   "source": [
    "In this example workflow, we'll analyze a cross section containing two 345 kV circuits to predict the impact of changing one circuit to a \"delta\" configuration. We'll also look at potential field reductions through phase optimization and through adding height to the circuits. Because this is a small modeling effort, we won't rely on the `emf.fields` excel templates, but will build the model using only Python."
   ]
  },
  {
   "cell_type": "code",
   "execution_count": 44,
   "metadata": {
    "collapsed": true
   },
   "outputs": [],
   "source": [
    "#import emf.fields, which simulates electric and magnetic fields along\n",
    "#lines perpendicular to parallel sets of power lines\n",
    "import emf.fields as fld"
   ]
  },
  {
   "cell_type": "markdown",
   "metadata": {},
   "source": [
    "First, we have to create the `emf.fields` objects that we need for the analysis.\n",
    "We'll have 7 `Conductor objects` in each `CrossSection` object (3 for each circuit, plus one ground line), and use two different `CrossSections` to look at the effects of changing one circuit to the \"delta\" configuration. These two `CrossSections`, basically a before-after pair, will go into a top level `SectionBook` object for comparison, plotting, and exporting."
   ]
  },
  {
   "cell_type": "code",
   "execution_count": 45,
   "metadata": {
    "collapsed": false
   },
   "outputs": [],
   "source": [
    "#create a Conductor objects for the first power line in circuit 1, which will\n",
    "#consist of three 345 kV lines, all at the same height, and a single ground wire\n",
    "c_1a = fld.Conductor('1a') #create the conductor with the name '1a'\n",
    "c_1a.x = -25 #x coordinate in feet\n",
    "c_1a.y = 22 #y coordinate in feet\n",
    "c_1a.subconds = 1 #number of subconductors in the \"bundle\" (usually 1)\n",
    "c_1a.d_cond = 1.5 #diameter of conductor in inches\n",
    "c_1a.d_bund = 1.5 #diameter of conductor \"bundle\" in inches\n",
    "c_1a.V = 345 #loading in volts\n",
    "c_1a.I = 600 #current in amps\n",
    "c_1a.phase = 240 #phase angle in degrees"
   ]
  },
  {
   "cell_type": "code",
   "execution_count": 46,
   "metadata": {
    "collapsed": true,
    "hidePrompt": false
   },
   "outputs": [],
   "source": [
    "#create the other two conductors in circuit 1 by copying and editing Conductor 1a\n",
    "c_1b = c_1a.copy()\n",
    "c_1b.tag = '1b'\n",
    "c_1b.x = -20\n",
    "c_1b.phase = 120\n",
    "\n",
    "c_1c = c_1b.copy()\n",
    "c_1c.tag = '1c'\n",
    "c_1c.x = -15\n",
    "c_1c.phase = 0"
   ]
  },
  {
   "cell_type": "code",
   "execution_count": 47,
   "metadata": {
    "collapsed": true
   },
   "outputs": [],
   "source": [
    "#now create the second circuit, which will be the same as the first,\n",
    "#but with x coordinates reflected about x = 0\n",
    "c_2a = c_1a.copy()\n",
    "c_2a.tag = '2a'\n",
    "c_2a.x = abs(c_2a.x)\n",
    "\n",
    "c_2b = c_1b.copy()\n",
    "c_2b.tag = '2b'\n",
    "c_2b.x = abs(c_2b.x)\n",
    "\n",
    "c_2c = c_1c.copy()\n",
    "c_2c.tag = '2c'\n",
    "c_2c.x = abs(c_2c.x)"
   ]
  },
  {
   "cell_type": "markdown",
   "metadata": {},
   "source": [
    "Now that we've created `Conductor` objects for each of the lines in our before (all lines at the same height) and after (circuit 2 switched to a triangular configuration) models, we can put the `Conductor`s into `CrossSection` objects, which will perform the desired EMF calculations. `Conductor`s can be added to a `CrossSection` object upon its initialization."
   ]
  },
  {
   "cell_type": "code",
   "execution_count": 48,
   "metadata": {
    "collapsed": false
   },
   "outputs": [],
   "source": [
    "#now the first CrossSection object can be created, containing the Conductor\n",
    "#objects created above\n",
    "before = fld.CrossSection('before', [c_1a, c_1b, c_1c, c_2a, c_2b, c_2c])\n",
    "#set some identification variables\n",
    "before.tag = 'Delta Test'\n",
    "before.title = 'Before Delta Implementation'\n",
    "#and set the sampling variables, which determine where emf values are calculated\n",
    "before.max_dist = 50 #sample to 50 ft from the center of the xs\n",
    "before.step = 0.5 #sample every half foot along the xs\n",
    "before.lROW = -40 #left edge of power line right of way (ROW)\n",
    "before.rROW = 40 #right ROW edge"
   ]
  },
  {
   "cell_type": "code",
   "execution_count": 49,
   "metadata": {
    "collapsed": false
   },
   "outputs": [
    {
     "name": "stdout",
     "output_type": "stream",
     "text": [
      "(True, None, None)\n"
     ]
    }
   ],
   "source": [
    "#check that the CrossSection is complete, meaning all the necessary variables in\n",
    "#its Conductor objects are set\n",
    "print before.complete"
   ]
  },
  {
   "cell_type": "code",
   "execution_count": 50,
   "metadata": {
    "collapsed": true
   },
   "outputs": [],
   "source": [
    "#all set, now we'll copy and edit the \"before\" CrossSection to create the\n",
    "#\"after\" version with the delta configuration\n",
    "after = before.copy()\n",
    "after.sheet = 'after'\n",
    "after.tag = 'Delta Test'\n",
    "after.title = 'After Delta Implementation'\n",
    "#Conductors in a CrossSection can be accessed by their tag strings\n",
    "after['2b'].y += 5\n",
    "after['2c'].x = after['2a'].x\n",
    "after['2c'].y = after['2a'].y + 10.0"
   ]
  },
  {
   "cell_type": "markdown",
   "metadata": {},
   "source": [
    "Lastly, before looking at the numbers, we put the `CrossSection` objects into a top level `SectionBook` object, which is essential for comparing the `CrossSections`. `CrossSection`s can be added to a `SectionBook` object upon its initialization."
   ]
  },
  {
   "cell_type": "code",
   "execution_count": 51,
   "metadata": {
    "collapsed": false
   },
   "outputs": [],
   "source": [
    "#finally, we can put the before and after CrossSections into a top level\n",
    "#SectionBook object\n",
    "sb = fld.SectionBook('delta-test', [before, after])"
   ]
  },
  {
   "cell_type": "markdown",
   "metadata": {},
   "source": [
    "But wait! We forgot the ground wire in circuit 1! Adding a `Conductor`s to `CrossSection` is easy with `add_conductor()`."
   ]
  },
  {
   "cell_type": "code",
   "execution_count": 52,
   "metadata": {
    "collapsed": false
   },
   "outputs": [],
   "source": [
    "#create the grounded line\n",
    "ground = fld.Conductor('1g')\n",
    "ground.x = -17.5\n",
    "ground.y = 27.2\n",
    "ground.subconds = 1\n",
    "ground.d_cond = 1\n",
    "ground.d_bund = 1\n",
    "ground.V = 0 #grounded\n",
    "ground.I = 0\n",
    "ground.phase = 0\n",
    "\n",
    "#add the ground line to the before and after xcs, which can be accessed\n",
    "#by keying the SectionBook like a dict, using the CrossSection's\n",
    "#sheet strings\n",
    "sb['before'].add_conductor(ground)\n",
    "sb['after'].add_conductor(ground)"
   ]
  },
  {
   "cell_type": "markdown",
   "metadata": {},
   "source": [
    "On to the results... EMF calculations are performed by a `CrossSection` only when its `field` attribute is accessed. If a `Conductor` in the `CrossSection` is modified, that `CrossSection`'s fields are updated the next time its `field` attribute is accessed. We don't have to do anything at all to get the most up-to-date fields for a `CrossSection`. For example, if we access fields from the `before` `CrossSection`, they will automatically calculate."
   ]
  },
  {
   "cell_type": "code",
   "execution_count": 53,
   "metadata": {
    "collapsed": false
   },
   "outputs": [
    {
     "name": "stdout",
     "output_type": "stream",
     "text": [
      "            Bmax      Bprod         Bx        By      Emax     Eprod  \\\n",
      "-50.0  22.383021  22.394635  21.682692  5.601831  1.688669  1.688741   \n",
      "-49.5  23.028616  23.041231  22.397989  5.406329  1.732469  1.732543   \n",
      "-49.0  23.696805  23.710513  23.136263  5.186693  1.777254  1.777329   \n",
      "-48.5  24.388393  24.403296  23.897784  4.941332  1.823005  1.823083   \n",
      "-48.0  25.104200  25.120410  24.682748  4.668722  1.869702  1.869782   \n",
      "\n",
      "             Ex        Ey  \n",
      "-50.0  0.257093  1.669056  \n",
      "-49.5  0.262819  1.712493  \n",
      "-49.0  0.268446  1.756939  \n",
      "-48.5  0.273940  1.802384  \n",
      "-48.0  0.279262  1.848810  \n"
     ]
    }
   ],
   "source": [
    "#the fields attribute leads to a Pandas DataFrame\n",
    "print sb['before'].fields.head(5)"
   ]
  },
  {
   "cell_type": "markdown",
   "metadata": {},
   "source": [
    "Now if we change information in one of the `Conductor` objects in the `before` `CrossSection` and access the `fields` attribute again, it will automatically recalculate."
   ]
  },
  {
   "cell_type": "code",
   "execution_count": 54,
   "metadata": {
    "collapsed": false
   },
   "outputs": [
    {
     "name": "stdout",
     "output_type": "stream",
     "text": [
      "             Bmax       Bprod          Bx          By       Emax      Eprod  \\\n",
      "-50.0  184.338265  184.975014   98.865314  156.337474  10.019097  10.019113   \n",
      "-49.5  186.573209  187.251314  101.277400  157.499025  10.265217  10.265233   \n",
      "-49.0  188.852940  189.575325  103.766759  158.654541  10.517507  10.517523   \n",
      "-48.5  191.178380  191.948181  106.336018  159.802238  10.775992  10.776008   \n",
      "-48.0  193.550447  194.371028  108.987862  160.940183  11.040681  11.040697   \n",
      "\n",
      "             Ex         Ey  \n",
      "-50.0  1.445012   9.914361  \n",
      "-49.5  1.480946  10.157845  \n",
      "-49.0  1.517023  10.407542  \n",
      "-48.5  1.553134  10.663495  \n",
      "-48.0  1.589153  10.925730  \n"
     ]
    }
   ],
   "source": [
    "#Conductors can also be accessed by the order in which they were\n",
    "#added to the CrossSection\n",
    "sb['before'].i[0].V += 1000 #boost the Voltage!\n",
    "sb['before']['1b'].I += 1000 #boost the Current!\n",
    "print sb['before'].fields.head(5)"
   ]
  },
  {
   "cell_type": "markdown",
   "metadata": {},
   "source": [
    "The fields were automatically recalculated when the `fields` property was accessed, becasue we changed some of the `Conductor` variables. We have some seriously high fields now... Let's change them back and make sure the fields changed again."
   ]
  },
  {
   "cell_type": "code",
   "execution_count": 55,
   "metadata": {
    "collapsed": false
   },
   "outputs": [
    {
     "name": "stdout",
     "output_type": "stream",
     "text": [
      "            Bmax      Bprod         Bx        By      Emax     Eprod  \\\n",
      "-50.0  22.383021  22.394635  21.682692  5.601831  1.688669  1.688741   \n",
      "\n",
      "             Ex        Ey  \n",
      "-50.0  0.257093  1.669056  \n"
     ]
    }
   ],
   "source": [
    "sb['before'].i[0].V -= 1000\n",
    "sb['before']['1b'].I -= 1000\n",
    "print sb['before'].fields.head(1)"
   ]
  },
  {
   "cell_type": "markdown",
   "metadata": {},
   "source": [
    "All set. Now on to the real analysis. Let's take a look at how the magnetic fields compare between our before and after `CrossSections` by plotting them as a group. Groups of `CrossSection`s within `SectionBook`s all have the same `tag` attribute. That's why we set those `tag` attributes to the same thing when the `CrossSection`s were created (the tag is `'Delta Test'`)."
   ]
  },
  {
   "cell_type": "code",
   "execution_count": 56,
   "metadata": {
    "collapsed": false
   },
   "outputs": [],
   "source": [
    "figs = fld.plot_groups(sb, return_figs=True)\n",
    "fld.close(figs['E']['Delta Test']) #get rid of the electric field plot\n",
    "fld.show()"
   ]
  },
  {
   "cell_type": "markdown",
   "metadata": {},
   "source": [
    "It's clear from the plot that switching to a \"delta\" reduces fields throughout the ROW. we can inspect the actual values of electric and magnetic fields at the ROW edges, at a glance, with the SectionBook's ROW_edge_max property."
   ]
  },
  {
   "cell_type": "code",
   "execution_count": 57,
   "metadata": {
    "collapsed": false
   },
   "outputs": [
    {
     "name": "stdout",
     "output_type": "stream",
     "text": [
      "       Bmaxl      Bmaxr     Emaxl     Emaxr   sheet  \\\n",
      "0  40.542720  40.542720  2.692491  2.574660  before   \n",
      "1  39.829126  35.332244  2.647290  2.169042   after   \n",
      "\n",
      "                         title  \n",
      "0  Before Delta Implementation  \n",
      "1   After Delta Implementation  \n"
     ]
    }
   ],
   "source": [
    "print sb.ROW_edge_max"
   ]
  },
  {
   "cell_type": "markdown",
   "metadata": {},
   "source": [
    "Fields are significantly reduced on the right side of the ROW, and slightly reduced on the left side because it's farther from the second circuit. If we want to reduce fields even further, we can find the optimal phasing of the \"after\" CrossSection and see if it helps."
   ]
  },
  {
   "cell_type": "code",
   "execution_count": 58,
   "metadata": {
    "collapsed": false
   },
   "outputs": [],
   "source": [
    "res, opt = fld.optimize_phasing(sb['after'], 'all')\n",
    "\n",
    "#look at whether a phasing configuration yields a significant reduction\n",
    "#in magnetic fields\n",
    "fld.plot_groups_at_ROW(opt, return_figs=True)\n",
    "fld.close(figs['E']['Delta Test'])\n",
    "fld.show()"
   ]
  },
  {
   "cell_type": "markdown",
   "metadata": {},
   "source": [
    "Looks like phase optimization of the \"after\" CrossSection wouldn't reduce the fields because the circuits are already in one of potentially many optimal arrangements. Let's just check the numbers."
   ]
  },
  {
   "cell_type": "code",
   "execution_count": 59,
   "metadata": {
    "collapsed": false
   },
   "outputs": [
    {
     "name": "stdout",
     "output_type": "stream",
     "text": [
      "       Bmaxl      Bmaxr     Emaxl     Emaxr                     sheet  \\\n",
      "0  39.829126  35.332244  2.647290  2.169042          after (Original)   \n",
      "1  39.380491  39.247289  2.654888  2.107660   Optimized for Bmax left   \n",
      "2  39.829126  35.332244  2.647290  2.169042  Optimized for Bmax right   \n",
      "3  39.829126  35.332244  2.647290  2.169042   Optimized for Emax left   \n",
      "4  39.380491  39.247289  2.654888  2.107660  Optimized for Emax right   \n",
      "\n",
      "                                   title  \n",
      "0             After Delta Implementation  \n",
      "1   Optimal Phasing - Bmax Left ROW Edge  \n",
      "2  Optimal Phasing - Bmax Right ROW Edge  \n",
      "3   Optimal Phasing - Emax Left ROW Edge  \n",
      "4  Optimal Phasing - Emax Right ROW Edge  \n"
     ]
    }
   ],
   "source": [
    "print opt.ROW_edge_max"
   ]
  },
  {
   "cell_type": "markdown",
   "metadata": {},
   "source": [
    "As a last resort, we're asked how much higher we would have to raise the second circuit, the \"delta\", to get magnetic fields at the right ROW edge down to 30 mG. We can use `fld.target_fields()`."
   ]
  },
  {
   "cell_type": "code",
   "execution_count": 60,
   "metadata": {
    "collapsed": false
   },
   "outputs": [
    {
     "name": "stdout",
     "output_type": "stream",
     "text": [
      "(None, 2.209329977631569, None, None)\n"
     ]
    }
   ],
   "source": [
    "h, adj = fld.target_fields(sb['after'], ['2a', '2b', '2c'], 0, 30, 0, 0)\n",
    "print h\n",
    "figs = fld.plot_groups(adj, return_figs=True)\n",
    "fld.close(figs['E']['Height Adjusted'])\n",
    "fld.show()"
   ]
  },
  {
   "cell_type": "markdown",
   "metadata": {},
   "source": [
    "We would only have to raise circuit 2 an extra 2.2 feet to get predicted magnetic field values at the right ROW edge down to 30 mG. That's good info. We can export the original modeling results and the height adjusted results to excel files, and be done with it."
   ]
  },
  {
   "cell_type": "code",
   "execution_count": 61,
   "metadata": {
    "collapsed": false
   },
   "outputs": [
    {
     "name": "stdout",
     "output_type": "stream",
     "text": [
      "Full SectionBook results written to: delta-test-all_results.xlsx\n",
      "Maximum fields at ROW edges written to: delta-test-ROW_edge_results.csv\n",
      "Optimal phasing results written to: after_height_adjustments.xlsx\n"
     ]
    }
   ],
   "source": [
    "sb.export()\n",
    "h, adj = fld.target_fields(sb['after'], ['2a', '2b', '2c'],\n",
    "                            0, 30, 0, 0, save=True)"
   ]
  }
 ],
 "metadata": {
  "kernelspec": {
   "display_name": "Python 2",
   "language": "python",
   "name": "python2"
  },
  "language_info": {
   "codemirror_mode": {
    "name": "ipython",
    "version": 2
   },
   "file_extension": ".py",
   "mimetype": "text/x-python",
   "name": "python",
   "nbconvert_exporter": "python",
   "pygments_lexer": "ipython2",
   "version": "2.7.11"
  }
 },
 "nbformat": 4,
 "nbformat_minor": 0
}
